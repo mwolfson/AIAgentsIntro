{
 "cells": [
  {
   "cell_type": "markdown",
   "metadata": {},
   "source": [
    "# AutoGen Code Functions Example\n",
    "\n",
    "Start by installing the following dependencies:\n"
   ]
  },
  {
   "cell_type": "code",
   "execution_count": 38,
   "metadata": {},
   "outputs": [
    {
     "name": "stdout",
     "output_type": "stream",
     "text": [
      "Defaulting to user installation because normal site-packages is not writeable\n",
      "Requirement already satisfied: pyautogen==0.2.25 in c:\\users\\mswol\\appdata\\roaming\\python\\python311\\site-packages (0.2.25)\n",
      "Requirement already satisfied: diskcache in c:\\users\\mswol\\appdata\\roaming\\python\\python311\\site-packages (from pyautogen==0.2.25) (5.6.3)\n",
      "Requirement already satisfied: docker in c:\\users\\mswol\\appdata\\roaming\\python\\python311\\site-packages (from pyautogen==0.2.25) (7.0.0)\n",
      "Requirement already satisfied: flaml in c:\\users\\mswol\\appdata\\roaming\\python\\python311\\site-packages (from pyautogen==0.2.25) (2.1.2)\n",
      "Requirement already satisfied: numpy<2,>=1.17.0 in c:\\users\\mswol\\appdata\\roaming\\python\\python311\\site-packages (from pyautogen==0.2.25) (1.23.5)\n",
      "Requirement already satisfied: openai>=1.3 in c:\\users\\mswol\\appdata\\roaming\\python\\python311\\site-packages (from pyautogen==0.2.25) (1.35.2)\n",
      "Requirement already satisfied: pydantic!=2.6.0,<3,>=1.10 in c:\\users\\mswol\\appdata\\roaming\\python\\python311\\site-packages (from pyautogen==0.2.25) (1.10.12)\n",
      "Requirement already satisfied: python-dotenv in c:\\users\\mswol\\appdata\\roaming\\python\\python311\\site-packages (from pyautogen==0.2.25) (1.0.0)\n",
      "Requirement already satisfied: termcolor in c:\\users\\mswol\\appdata\\roaming\\python\\python311\\site-packages (from pyautogen==0.2.25) (2.3.0)\n",
      "Requirement already satisfied: tiktoken in c:\\users\\mswol\\appdata\\roaming\\python\\python311\\site-packages (from pyautogen==0.2.25) (0.4.0)\n",
      "Requirement already satisfied: anyio<5,>=3.5.0 in c:\\users\\mswol\\appdata\\roaming\\python\\python311\\site-packages (from openai>=1.3->pyautogen==0.2.25) (3.7.0)\n",
      "Requirement already satisfied: distro<2,>=1.7.0 in c:\\users\\mswol\\appdata\\roaming\\python\\python311\\site-packages (from openai>=1.3->pyautogen==0.2.25) (1.8.0)\n",
      "Requirement already satisfied: httpx<1,>=0.23.0 in c:\\users\\mswol\\appdata\\roaming\\python\\python311\\site-packages (from openai>=1.3->pyautogen==0.2.25) (0.25.2)\n",
      "Requirement already satisfied: sniffio in c:\\users\\mswol\\appdata\\roaming\\python\\python311\\site-packages (from openai>=1.3->pyautogen==0.2.25) (1.3.0)\n",
      "Requirement already satisfied: tqdm>4 in c:\\users\\mswol\\appdata\\roaming\\python\\python311\\site-packages (from openai>=1.3->pyautogen==0.2.25) (4.65.0)\n",
      "Requirement already satisfied: typing-extensions<5,>=4.7 in c:\\users\\mswol\\appdata\\roaming\\python\\python311\\site-packages (from openai>=1.3->pyautogen==0.2.25) (4.9.0)\n",
      "Requirement already satisfied: packaging>=14.0 in c:\\users\\mswol\\appdata\\roaming\\python\\python311\\site-packages (from docker->pyautogen==0.2.25) (23.2)\n",
      "Requirement already satisfied: requests>=2.26.0 in c:\\users\\mswol\\appdata\\roaming\\python\\python311\\site-packages (from docker->pyautogen==0.2.25) (2.31.0)\n",
      "Requirement already satisfied: urllib3>=1.26.0 in c:\\users\\mswol\\appdata\\roaming\\python\\python311\\site-packages (from docker->pyautogen==0.2.25) (1.26.16)\n",
      "Requirement already satisfied: pywin32>=304 in c:\\users\\mswol\\appdata\\roaming\\python\\python311\\site-packages (from docker->pyautogen==0.2.25) (306)\n",
      "Requirement already satisfied: regex>=2022.1.18 in c:\\users\\mswol\\appdata\\roaming\\python\\python311\\site-packages (from tiktoken->pyautogen==0.2.25) (2023.8.8)\n",
      "Requirement already satisfied: idna>=2.8 in c:\\users\\mswol\\appdata\\roaming\\python\\python311\\site-packages (from anyio<5,>=3.5.0->openai>=1.3->pyautogen==0.2.25) (3.4)\n",
      "Requirement already satisfied: certifi in c:\\users\\mswol\\appdata\\roaming\\python\\python311\\site-packages (from httpx<1,>=0.23.0->openai>=1.3->pyautogen==0.2.25) (2023.5.7)\n",
      "Requirement already satisfied: httpcore==1.* in c:\\users\\mswol\\appdata\\roaming\\python\\python311\\site-packages (from httpx<1,>=0.23.0->openai>=1.3->pyautogen==0.2.25) (1.0.2)\n",
      "Requirement already satisfied: h11<0.15,>=0.13 in c:\\users\\mswol\\appdata\\roaming\\python\\python311\\site-packages (from httpcore==1.*->httpx<1,>=0.23.0->openai>=1.3->pyautogen==0.2.25) (0.14.0)\n",
      "Requirement already satisfied: charset-normalizer<4,>=2 in c:\\users\\mswol\\appdata\\roaming\\python\\python311\\site-packages (from requests>=2.26.0->docker->pyautogen==0.2.25) (3.1.0)\n",
      "Requirement already satisfied: colorama in c:\\users\\mswol\\appdata\\roaming\\python\\python311\\site-packages (from tqdm>4->openai>=1.3->pyautogen==0.2.25) (0.4.6)\n",
      "Note: you may need to restart the kernel to use updated packages.\n"
     ]
    },
    {
     "name": "stderr",
     "output_type": "stream",
     "text": [
      "\n",
      "[notice] A new release of pip is available: 24.0 -> 24.2\n",
      "[notice] To update, run: python.exe -m pip install --upgrade pip\n"
     ]
    },
    {
     "name": "stdout",
     "output_type": "stream",
     "text": [
      "Defaulting to user installation because normal site-packages is not writeable\n",
      "Requirement already satisfied: matplotlib in c:\\users\\mswol\\appdata\\roaming\\python\\python311\\site-packages (3.7.1)\n",
      "Requirement already satisfied: contourpy>=1.0.1 in c:\\users\\mswol\\appdata\\roaming\\python\\python311\\site-packages (from matplotlib) (1.1.0)\n",
      "Requirement already satisfied: cycler>=0.10 in c:\\users\\mswol\\appdata\\roaming\\python\\python311\\site-packages (from matplotlib) (0.11.0)\n",
      "Requirement already satisfied: fonttools>=4.22.0 in c:\\users\\mswol\\appdata\\roaming\\python\\python311\\site-packages (from matplotlib) (4.40.0)\n",
      "Requirement already satisfied: kiwisolver>=1.0.1 in c:\\users\\mswol\\appdata\\roaming\\python\\python311\\site-packages (from matplotlib) (1.4.4)\n",
      "Requirement already satisfied: numpy>=1.20 in c:\\users\\mswol\\appdata\\roaming\\python\\python311\\site-packages (from matplotlib) (1.23.5)\n",
      "Requirement already satisfied: packaging>=20.0 in c:\\users\\mswol\\appdata\\roaming\\python\\python311\\site-packages (from matplotlib) (23.2)\n",
      "Requirement already satisfied: pillow>=6.2.0 in c:\\users\\mswol\\appdata\\roaming\\python\\python311\\site-packages (from matplotlib) (9.5.0)\n",
      "Requirement already satisfied: pyparsing>=2.3.1 in c:\\users\\mswol\\appdata\\roaming\\python\\python311\\site-packages (from matplotlib) (3.1.0)\n",
      "Requirement already satisfied: python-dateutil>=2.7 in c:\\users\\mswol\\appdata\\roaming\\python\\python311\\site-packages (from matplotlib) (2.8.2)\n",
      "Requirement already satisfied: six>=1.5 in c:\\users\\mswol\\appdata\\roaming\\python\\python311\\site-packages (from python-dateutil>=2.7->matplotlib) (1.16.0)\n",
      "Note: you may need to restart the kernel to use updated packages.\n"
     ]
    },
    {
     "name": "stderr",
     "output_type": "stream",
     "text": [
      "\n",
      "[notice] A new release of pip is available: 24.0 -> 24.2\n",
      "[notice] To update, run: python.exe -m pip install --upgrade pip\n"
     ]
    },
    {
     "name": "stdout",
     "output_type": "stream",
     "text": [
      "Note: you may need to restart the kernel to use updated packages.Defaulting to user installation because normal site-packages is not writeable\n",
      "Requirement already satisfied: pandas in c:\\users\\mswol\\appdata\\roaming\\python\\python311\\site-packages (2.0.3)\n",
      "Requirement already satisfied: python-dateutil>=2.8.2 in c:\\users\\mswol\\appdata\\roaming\\python\\python311\\site-packages (from pandas) (2.8.2)\n",
      "Requirement already satisfied: pytz>=2020.1 in c:\\users\\mswol\\appdata\\roaming\\python\\python311\\site-packages (from pandas) (2023.3)\n",
      "Requirement already satisfied: tzdata>=2022.1 in c:\\users\\mswol\\appdata\\roaming\\python\\python311\\site-packages (from pandas) (2023.3)\n",
      "Requirement already satisfied: numpy>=1.21.0 in c:\\users\\mswol\\appdata\\roaming\\python\\python311\\site-packages (from pandas) (1.23.5)\n",
      "Requirement already satisfied: six>=1.5 in c:\\users\\mswol\\appdata\\roaming\\python\\python311\\site-packages (from python-dateutil>=2.8.2->pandas) (1.16.0)\n",
      "\n"
     ]
    },
    {
     "name": "stderr",
     "output_type": "stream",
     "text": [
      "\n",
      "[notice] A new release of pip is available: 24.0 -> 24.2\n",
      "[notice] To update, run: python.exe -m pip install --upgrade pip\n"
     ]
    },
    {
     "name": "stdout",
     "output_type": "stream",
     "text": [
      "Defaulting to user installation because normal site-packages is not writeable\n",
      "Requirement already satisfied: yfinance in c:\\users\\mswol\\appdata\\roaming\\python\\python311\\site-packages (0.2.40)\n",
      "Requirement already satisfied: pandas>=1.3.0 in c:\\users\\mswol\\appdata\\roaming\\python\\python311\\site-packages (from yfinance) (2.0.3)\n",
      "Requirement already satisfied: numpy>=1.16.5 in c:\\users\\mswol\\appdata\\roaming\\python\\python311\\site-packages (from yfinance) (1.23.5)\n",
      "Requirement already satisfied: requests>=2.31 in c:\\users\\mswol\\appdata\\roaming\\python\\python311\\site-packages (from yfinance) (2.31.0)\n",
      "Requirement already satisfied: multitasking>=0.0.7 in c:\\users\\mswol\\appdata\\roaming\\python\\python311\\site-packages (from yfinance) (0.0.11)\n",
      "Requirement already satisfied: lxml>=4.9.1 in c:\\users\\mswol\\appdata\\roaming\\python\\python311\\site-packages (from yfinance) (4.9.3)\n",
      "Requirement already satisfied: platformdirs>=2.0.0 in c:\\users\\mswol\\appdata\\roaming\\python\\python311\\site-packages (from yfinance) (3.6.0)\n",
      "Requirement already satisfied: pytz>=2022.5 in c:\\users\\mswol\\appdata\\roaming\\python\\python311\\site-packages (from yfinance) (2023.3)\n",
      "Requirement already satisfied: frozendict>=2.3.4 in c:\\users\\mswol\\appdata\\roaming\\python\\python311\\site-packages (from yfinance) (2.3.10)\n",
      "Requirement already satisfied: peewee>=3.16.2 in c:\\users\\mswol\\appdata\\roaming\\python\\python311\\site-packages (from yfinance) (3.17.5)\n",
      "Requirement already satisfied: beautifulsoup4>=4.11.1 in c:\\users\\mswol\\appdata\\roaming\\python\\python311\\site-packages (from yfinance) (4.12.2)\n",
      "Requirement already satisfied: html5lib>=1.1 in c:\\users\\mswol\\appdata\\roaming\\python\\python311\\site-packages (from yfinance) (1.1)\n",
      "Requirement already satisfied: soupsieve>1.2 in c:\\users\\mswol\\appdata\\roaming\\python\\python311\\site-packages (from beautifulsoup4>=4.11.1->yfinance) (2.4.1)\n",
      "Requirement already satisfied: six>=1.9 in c:\\users\\mswol\\appdata\\roaming\\python\\python311\\site-packages (from html5lib>=1.1->yfinance) (1.16.0)\n",
      "Requirement already satisfied: webencodings in c:\\users\\mswol\\appdata\\roaming\\python\\python311\\site-packages (from html5lib>=1.1->yfinance) (0.5.1)\n",
      "Requirement already satisfied: python-dateutil>=2.8.2 in c:\\users\\mswol\\appdata\\roaming\\python\\python311\\site-packages (from pandas>=1.3.0->yfinance) (2.8.2)\n",
      "Requirement already satisfied: tzdata>=2022.1 in c:\\users\\mswol\\appdata\\roaming\\python\\python311\\site-packages (from pandas>=1.3.0->yfinance) (2023.3)\n",
      "Requirement already satisfied: charset-normalizer<4,>=2 in c:\\users\\mswol\\appdata\\roaming\\python\\python311\\site-packages (from requests>=2.31->yfinance) (3.1.0)\n",
      "Requirement already satisfied: idna<4,>=2.5 in c:\\users\\mswol\\appdata\\roaming\\python\\python311\\site-packages (from requests>=2.31->yfinance) (3.4)\n",
      "Requirement already satisfied: urllib3<3,>=1.21.1 in c:\\users\\mswol\\appdata\\roaming\\python\\python311\\site-packages (from requests>=2.31->yfinance) (1.26.16)\n",
      "Requirement already satisfied: certifi>=2017.4.17 in c:\\users\\mswol\\appdata\\roaming\\python\\python311\\site-packages (from requests>=2.31->yfinance) (2023.5.7)\n",
      "Note: you may need to restart the kernel to use updated packages.\n"
     ]
    },
    {
     "name": "stderr",
     "output_type": "stream",
     "text": [
      "\n",
      "[notice] A new release of pip is available: 24.0 -> 24.2\n",
      "[notice] To update, run: python.exe -m pip install --upgrade pip\n"
     ]
    }
   ],
   "source": [
    "%pip install pyautogen==0.2.25\n",
    "%pip install matplotlib\n",
    "%pip install pandas\n",
    "%pip install yfinance"
   ]
  },
  {
   "cell_type": "markdown",
   "metadata": {},
   "source": [
    "## Grab ChatGPT key from OS"
   ]
  },
  {
   "cell_type": "code",
   "execution_count": 39,
   "metadata": {},
   "outputs": [],
   "source": [
    "import os\n",
    "import autogen \n",
    "\n",
    "llm_config = {\"model\": \"gpt-4-turbo\", \"api_key\": os.environ[\"OPENAI_API_KEY\"]}"
   ]
  },
  {
   "cell_type": "markdown",
   "metadata": {},
   "source": [
    "## Create 2 Agents to collaborate on Code\n",
    "\n",
    "Use a special kind of Agent to propose code examples, then run it.\n",
    "\n",
    "[LocalCommandLineCodeExecutor](https://microsoft.github.io/autogen/docs/reference/coding/local_commandline_code_executor/)\n",
    "\n",
    "> This will execute or save LLM generated code on the local machine.\n",
    "\n",
    "> Each code block is saved as a file in the working directory. Depending on the execution policy, the code may be executed in a separate process. The code blocks are executed or save in the order they are received. Command line code is sanitized against a list of dangerous commands to prevent self-destructive commands from being executed, which could potentially affect the user's environment. Supported languages include Python, shell scripts (bash, shell, sh), PowerShell (pwsh, powershell, ps1), HTML, CSS, and JavaScript. Execution policies determine whether each language's code blocks are executed or saved only."
   ]
  },
  {
   "cell_type": "code",
   "execution_count": 40,
   "metadata": {},
   "outputs": [],
   "source": [
    "working_dir = \"stock_plotter\""
   ]
  },
  {
   "cell_type": "code",
   "execution_count": 41,
   "metadata": {},
   "outputs": [],
   "source": [
    "from autogen.coding import LocalCommandLineCodeExecutor\n",
    "\n",
    "executor = LocalCommandLineCodeExecutor(\n",
    "    timeout=60,\n",
    "    work_dir=working_dir,\n",
    ")"
   ]
  },
  {
   "cell_type": "markdown",
   "metadata": {},
   "source": [
    "## Create Agents"
   ]
  },
  {
   "cell_type": "code",
   "execution_count": 42,
   "metadata": {},
   "outputs": [],
   "source": [
    "from autogen import ConversableAgent, AssistantAgent"
   ]
  },
  {
   "cell_type": "markdown",
   "metadata": {},
   "source": [
    "## Code **Executing** Agent\n",
    "\n",
    "This agent is a code executer agent.  This will always take input from a human and will be the main agent the operates the workflow.\n",
    "\n",
    "[ConversableAgent](https://microsoft.github.io/autogen/docs/reference/agentchat/conversable_agent/)\n",
    "\n",
    "> A class for generic conversable agents which can be configured as assistant or user proxy.\n",
    "\n",
    "> After receiving each message, the agent will send a reply to the sender unless the msg is a termination msg. For example, AssistantAgent and UserProxyAgent are subclasses of this class, configured with different default settings.\n",
    "\n"
   ]
  },
  {
   "cell_type": "code",
   "execution_count": 43,
   "metadata": {},
   "outputs": [],
   "source": [
    "code_executor_agent = ConversableAgent(\n",
    "    name=\"code_executor_agent\",\n",
    "    llm_config=False,\n",
    "    code_execution_config={\"executor\": executor},\n",
    "    human_input_mode=\"ALWAYS\",\n",
    "    default_auto_reply=\n",
    "    \"Please continue. If everything is done, reply 'TERMINATE'.\",\n",
    ")"
   ]
  },
  {
   "cell_type": "markdown",
   "metadata": {},
   "source": [
    "## Code **Writing** Agent\n",
    "\n",
    "This is a special type of AutoGen Agent that has code writing capabilities built in.\n",
    "\n",
    "[AssistantAgent](https://microsoft.github.io/autogen/docs/reference/agentchat/assistant_agent/)\n",
    "\n",
    "> AssistantAgent is a subclass of ConversableAgent configured with a default system message. The default system message is designed to solve a task with LLM, including suggesting python code blocks and debugging. human_input_mode is default to \"NEVER\" and code_execution_config is default to False. This agent doesn't execute code by default, and expects the user to execute the code."
   ]
  },
  {
   "cell_type": "code",
   "execution_count": 44,
   "metadata": {},
   "outputs": [],
   "source": [
    "code_writer_agent = AssistantAgent(\n",
    "    name=\"code_writer_agent\",\n",
    "    llm_config=llm_config,\n",
    "    code_execution_config=False,\n",
    "    human_input_mode=\"NEVER\",\n",
    ")"
   ]
  },
  {
   "cell_type": "markdown",
   "metadata": {},
   "source": [
    "### Print the default User Message\n",
    "\n",
    "This will show the default functions built into the *AssistantAgent* which includes default language about being a _Python_ agent and other instructions."
   ]
  },
  {
   "cell_type": "code",
   "execution_count": 45,
   "metadata": {},
   "outputs": [
    {
     "name": "stdout",
     "output_type": "stream",
     "text": [
      "You are a helpful AI assistant.\n",
      "Solve tasks using your coding and language skills.\n",
      "In the following cases, suggest python code (in a python coding block) or shell script (in a sh coding block) for the user to execute.\n",
      "    1. When you need to collect info, use the code to output the info you need, for example, browse or search the web, download/read a file, print the content of a webpage or a file, get the current date/time, check the operating system. After sufficient info is printed and the task is ready to be solved based on your language skill, you can solve the task by yourself.\n",
      "    2. When you need to perform some task with code, use the code to perform the task and output the result. Finish the task smartly.\n",
      "Solve the task step by step if you need to. If a plan is not provided, explain your plan first. Be clear which step uses code, and which step uses your language skill.\n",
      "When using code, you must indicate the script type in the code block. The user cannot provide any other feedback or perform any other action beyond executing the code you suggest. The user can't modify your code. So do not suggest incomplete code which requires users to modify. Don't use a code block if it's not intended to be executed by the user.\n",
      "If you want the user to save the code in a file before executing it, put # filename: <filename> inside the code block as the first line. Don't include multiple code blocks in one response. Do not ask users to copy and paste the result. Instead, use 'print' function for the output when relevant. Check the execution result returned by the user.\n",
      "If the result indicates there is an error, fix the error and output the code again. Suggest the full code instead of partial code or code changes. If the error can't be fixed or if the task is not solved even after the code is executed successfully, analyze the problem, revisit your assumption, collect additional info you need, and think of a different approach to try.\n",
      "When you find an answer, verify the answer carefully. Include verifiable evidence in your response if possible.\n",
      "Reply \"TERMINATE\" in the end when everything is done.\n",
      "    \n"
     ]
    }
   ],
   "source": [
    "code_writer_agent_system_message = code_writer_agent.system_message\n",
    "print(code_writer_agent_system_message)"
   ]
  },
  {
   "cell_type": "markdown",
   "metadata": {},
   "source": [
    "## Agent Collaboration - Stock Analysis\n",
    "\n",
    "Ask the two agents to collaborate on a stock analysis task."
   ]
  },
  {
   "cell_type": "markdown",
   "metadata": {},
   "source": [
    "### Initial Query\n",
    "\n",
    "Set the date, and ask the Agent for code about how to create code to plot results and create a plot of the results that are saved to a file named `ytd_stock_gains.png`"
   ]
  },
  {
   "cell_type": "code",
   "execution_count": 46,
   "metadata": {},
   "outputs": [],
   "source": [
    "import datetime\n",
    "\n",
    "today = datetime.datetime.now().date()\n",
    "message = f\"Today is {today}. \"\\\n",
    "\"Create a plot showing stock gain YTD for NVDA and TLSA. \"\\\n",
    "\"Make sure the code is in markdown code block and save the figure\"\\\n",
    "\" to a file ytd_stock_gains.png.\"\"\""
   ]
  },
  {
   "cell_type": "markdown",
   "metadata": {},
   "source": [
    "## Run the code executor agent\n",
    "\n",
    "Run the `code_executor_agent` with the `message` to get the resulting file created.\n",
    "\n",
    "This will wait for user input, for additional instructions, or allow the user to hit enter to end the operation"
   ]
  },
  {
   "cell_type": "code",
   "execution_count": 49,
   "metadata": {},
   "outputs": [
    {
     "name": "stdout",
     "output_type": "stream",
     "text": [
      "\u001b[33mcode_executor_agent\u001b[0m (to code_writer_agent):\n",
      "\n",
      "Today is 2024-08-23. Create a plot showing stock gain YTD for NVDA and TLSA. Make sure the code is in markdown code block and save the figure to a file ytd_stock_gains.png.\n",
      "\n",
      "--------------------------------------------------------------------------------\n",
      "\u001b[33mcode_writer_agent\u001b[0m (to code_executor_agent):\n",
      "\n",
      "To accomplish this task, we'll need to do the following:\n",
      "\n",
      "1. Fetch the stock price data for Nvidia Corporation (NVDA) and Tesla Inc (TSLA) for the year 2024.\n",
      "2. Calculate the Year-To-Date (YTD) gains for both stocks.\n",
      "3. Plot these gains on a graph.\n",
      "4. Save the plot to a file named `ytd_stock_gains.png`.\n",
      "\n",
      "Let's start by fetching the necessary stock data. Since we can't browse the web or access an API directly, I'll provide you with a Python script to fetch and plot the necessary data using the `yfinance` library. This library is widely used for fetching historical market data from Yahoo Finance.\n",
      "\n",
      "First, please ensure you have the necessary Python packages installed. You can install them using pip if they are not already installed:\n",
      "\n",
      "```sh\n",
      "pip install yfinance matplotlib\n",
      "```\n",
      "\n",
      "After installing these packages, execute the following Python script:\n",
      "\n",
      "```python\n",
      "# filename: fetch_and_plot_stocks.py\n",
      "import yfinance as yf\n",
      "import matplotlib.pyplot as plt\n",
      "\n",
      "def fetch_stock_data(ticker):\n",
      "    stock = yf.Ticker(ticker)\n",
      "    # Fetch data from start of 2024 until today\n",
      "    data = stock.history(start=\"2024-01-01\", end=\"2024-08-23\")\n",
      "    return data['Close']\n",
      "\n",
      "def calculate_ytd_gains(data):\n",
      "    # Calculate gains as percentage from the first day of the year\n",
      "    return 100 * (data / data.iloc[0] - 1)\n",
      "\n",
      "# Fetching data\n",
      "nvda_data = fetch_stock_data(\"NVDA\")\n",
      "tsla_data = fetch_stock_data(\"TSLA\")\n",
      "\n",
      "# Calculating YTD gains\n",
      "nvda_gains = calculate_ytd_gains(nvda_data)\n",
      "tsla_gains = calculate_ytd_gains(tsla_data)\n",
      "\n",
      "# Create plot\n",
      "plt.figure(figsize=(10, 5))\n",
      "plt.plot(nvda_gains, label='NVDA YTD Gains %')\n",
      "plt.plot(tsla_gains, label='TSLA YTD Gains %')\n",
      "plt.title('NVDA and TSLA Stock Gains YTD 2024')\n",
      "plt.xlabel('Date')\n",
      "plt.ylabel('Gain %')\n",
      "plt.legend()\n",
      "plt.grid(True)\n",
      "\n",
      "# Save to file\n",
      "plt.savefig('ytd_stock_gains.png')\n",
      "plt.show()\n",
      "```\n",
      "\n",
      "This script handles all the required steps: it fetches the stock data, calculates the YTD gains, plots the data, and saves the plot to `ytd_stock_gains.png`. Please make sure to run this script in a Python environment.\n",
      "\n",
      "--------------------------------------------------------------------------------\n"
     ]
    },
    {
     "name": "stdin",
     "output_type": "stream",
     "text": [
      "Provide feedback to code_writer_agent. Press enter to skip and use auto-reply, or type 'exit' to end the conversation:  \n"
     ]
    },
    {
     "name": "stdout",
     "output_type": "stream",
     "text": [
      "\u001b[31m\n",
      ">>>>>>>> NO HUMAN INPUT RECEIVED.\u001b[0m\n",
      "\u001b[31m\n",
      ">>>>>>>> USING AUTO REPLY...\u001b[0m\n",
      "\u001b[31m\n",
      ">>>>>>>> EXECUTING 2 CODE BLOCKS (inferred languages are [sh, python])...\u001b[0m\n",
      "\u001b[33mcode_executor_agent\u001b[0m (to code_writer_agent):\n",
      "\n",
      "exitcode: 0 (execution succeeded)\n",
      "Code output: Figure(1000x500)\n",
      "\n",
      "\n",
      "--------------------------------------------------------------------------------\n",
      "\u001b[33mcode_writer_agent\u001b[0m (to code_executor_agent):\n",
      "\n",
      "Great! The script executed successfully and plotted the Year-To-Date (YTD) stock gains for NVDA and TSLA. The plot was displayed and saved to a file named `ytd_stock_gains.png`.\n",
      "\n",
      "If you want to check, you can locate this file in the directory where you ran the script. The file will contain the graph depicting the stock performance from the beginning of 2024 up to today, showing how the stock prices have changed percentage-wise.\n",
      "\n",
      "If you have any other questions or need further assistance, feel free to ask!\n",
      "\n",
      "TERMINATE\n",
      "\n",
      "--------------------------------------------------------------------------------\n"
     ]
    },
    {
     "name": "stdin",
     "output_type": "stream",
     "text": [
      "Provide feedback to code_writer_agent. Press enter to skip and use auto-reply, or type 'exit' to end the conversation:  exit\n"
     ]
    }
   ],
   "source": [
    "chat_result = code_executor_agent.initiate_chat(\n",
    "    code_writer_agent,\n",
    "    message=message,\n",
    ")"
   ]
  },
  {
   "cell_type": "markdown",
   "metadata": {},
   "source": [
    "## View the file created"
   ]
  },
  {
   "cell_type": "code",
   "execution_count": 50,
   "metadata": {},
   "outputs": [
    {
     "data": {
      "image/png": "[encoded data removed]",
      "text/plain": [
       "<IPython.core.display.Image object>"
      ]
     },
     "execution_count": 50,
     "metadata": {},
     "output_type": "execute_result"
    }
   ],
   "source": [
    "import os\n",
    "from IPython.display import Image\n",
    "\n",
    "Image(os.path.join(working_dir, \"ytd_stock_gains.png\"))"
   ]
  },
  {
   "cell_type": "markdown",
   "metadata": {},
   "source": [
    "## User-Defined Functions\n",
    "\n",
    "Instead of asking LLM to generate the code for downloading stock data \n",
    "and plotting charts each time, you can define functions for these two tasks and have LLM call these functions in the code."
   ]
  },
  {
   "cell_type": "markdown",
   "metadata": {},
   "source": [
    "### **get_stock_prices()** - function to get stock prices\n",
    "\n",
    "Input a list of symbols and the output will be a _pandas_ data frame with the stock info."
   ]
  },
  {
   "cell_type": "code",
   "execution_count": null,
   "metadata": {},
   "outputs": [],
   "source": [
    "def get_stock_prices(stock_symbols, start_date, end_date):\n",
    "    \"\"\"Get the stock prices for the given stock symbols between\n",
    "    the start and end dates.\n",
    "\n",
    "    Args:\n",
    "        stock_symbols (str or list): The stock symbols to get the\n",
    "        prices for.\n",
    "        start_date (str): The start date in the format \n",
    "        'YYYY-MM-DD'.\n",
    "        end_date (str): The end date in the format 'YYYY-MM-DD'.\n",
    "    \n",
    "    Returns:\n",
    "        pandas.DataFrame: The stock prices for the given stock\n",
    "        symbols indexed by date, with one column per stock \n",
    "        symbol.\n",
    "    \"\"\"\n",
    "    import yfinance\n",
    "\n",
    "    stock_data = yfinance.download(\n",
    "        stock_symbols, start=start_date, end=end_date\n",
    "    )\n",
    "    return stock_data.get(\"Close\")"
   ]
  },
  {
   "cell_type": "markdown",
   "metadata": {},
   "source": [
    "### **plot_stock_prices()** - function to plot the data on a *matplotlib*\n",
    "\n",
    "Input the *pandas* dataframe with stock info and create a png with the info plotted."
   ]
  },
  {
   "cell_type": "code",
   "execution_count": null,
   "metadata": {},
   "outputs": [],
   "source": [
    "def plot_stock_prices(stock_prices, filename):\n",
    "    \"\"\"Plot the stock prices for the given stock symbols.\n",
    "\n",
    "    Args:\n",
    "        stock_prices (pandas.DataFrame): The stock prices for the \n",
    "        given stock symbols.\n",
    "    \"\"\"\n",
    "    import matplotlib.pyplot as plt\n",
    "\n",
    "    plt.figure(figsize=(10, 5))\n",
    "    for column in stock_prices.columns:\n",
    "        plt.plot(\n",
    "            stock_prices.index, stock_prices[column], label=column\n",
    "                )\n",
    "    plt.title(\"Stock Prices\")\n",
    "    plt.xlabel(\"Date\")\n",
    "    plt.ylabel(\"Price\")\n",
    "    plt.grid(True)\n",
    "    plt.savefig(filename)"
   ]
  },
  {
   "cell_type": "markdown",
   "metadata": {},
   "source": [
    "## Executor with user defined functions\n",
    "\n",
    "We must create a new executor, and register the functions we just created to it."
   ]
  },
  {
   "cell_type": "code",
   "execution_count": null,
   "metadata": {},
   "outputs": [],
   "source": [
    "executor = LocalCommandLineCodeExecutor(\n",
    "    timeout=60,\n",
    "    work_dir=working_dir,\n",
    "    functions=[get_stock_prices, plot_stock_prices],\n",
    ")"
   ]
  },
  {
   "cell_type": "markdown",
   "metadata": {},
   "source": [
    "## Look at System message to confirm functions are registered\n",
    "\n",
    "You can now output the message and see the functions we created have been automatically added."
   ]
  },
  {
   "cell_type": "code",
   "execution_count": null,
   "metadata": {},
   "outputs": [],
   "source": [
    "code_writer_agent_system_message += executor.format_functions_for_prompt()\n",
    "print(code_writer_agent_system_message)"
   ]
  },
  {
   "cell_type": "markdown",
   "metadata": {},
   "source": [
    "## Update Agents\n",
    "\n",
    "Now that the system message has been updated with the functions, we will re-configure the 2 agents to use the new system_message"
   ]
  },
  {
   "cell_type": "code",
   "execution_count": null,
   "metadata": {},
   "outputs": [],
   "source": [
    "code_writer_agent = ConversableAgent(\n",
    "    name=\"code_writer_agent\",\n",
    "    system_message=code_writer_agent_system_message,\n",
    "    llm_config=llm_config,\n",
    "    code_execution_config=False,\n",
    "    human_input_mode=\"NEVER\",\n",
    ")\n",
    "\n",
    "code_executor_agent = ConversableAgent(\n",
    "    name=\"code_executor_agent\",\n",
    "    llm_config=False,\n",
    "    code_execution_config={\"executor\": executor},\n",
    "    human_input_mode=\"ALWAYS\",\n",
    "    default_auto_reply=\n",
    "    \"Please continue. If everything is done, reply 'TERMINATE'.\",\n",
    ")"
   ]
  },
  {
   "cell_type": "markdown",
   "metadata": {},
   "source": [
    "## Start Task Again\n",
    "\n",
    "Same task as before, but with new executor, that will use our registered functions, instead of writing the code to perform the tasks."
   ]
  },
  {
   "cell_type": "code",
   "execution_count": null,
   "metadata": {},
   "outputs": [],
   "source": [
    "chat_result = code_executor_agent.initiate_chat(\n",
    "    code_writer_agent,\n",
    "    message=f\"Today is {today}.\"\n",
    "    \"Download the stock prices YTD for NVDA and TSLA and create\"\n",
    "    \"a plot. Make sure the code is in markdown code block and \"\n",
    "    \"save the figure to a file stock_prices_YTD_plot.png.\",\n",
    ")"
   ]
  },
  {
   "cell_type": "markdown",
   "metadata": {},
   "source": [
    "### Finally check the plot to see the results"
   ]
  },
  {
   "cell_type": "code",
   "execution_count": null,
   "metadata": {},
   "outputs": [],
   "source": [
    "Image(os.path.join(working_dir, \"stock_prices_YTD_plot.png\"))"
   ]
  },
  {
   "cell_type": "code",
   "execution_count": null,
   "metadata": {},
   "outputs": [],
   "source": []
  }
 ],
 "metadata": {
  "kernelspec": {
   "display_name": "Python 3 (ipykernel)",
   "language": "python",
   "name": "python3"
  },
  "language_info": {
   "codemirror_mode": {
    "name": "ipython",
    "version": 3
   },
   "file_extension": ".py",
   "mimetype": "text/x-python",
   "name": "python",
   "nbconvert_exporter": "python",
   "pygments_lexer": "ipython3",
   "version": "3.11.4"
  }
 },
 "nbformat": 4,
 "nbformat_minor": 4
}
